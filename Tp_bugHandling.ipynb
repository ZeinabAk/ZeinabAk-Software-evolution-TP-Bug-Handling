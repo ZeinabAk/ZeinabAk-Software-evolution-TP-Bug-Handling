{
 "cells": [
  {
   "cell_type": "code",
   "execution_count": null,
   "metadata": {},
   "outputs": [],
   "source": [
    "import pandas as pd\n",
    "import os\n",
    "import json\n",
    "import csv\n",
    "import re, datetime\n",
    "from datetime import date, timedelta\n",
    "from global_functions import *"
   ]
  },
  {
   "cell_type": "markdown",
   "metadata": {},
   "source": [
    "### Information\n",
    "\n",
    "Input files:\n",
    "/raw_data/all_eclipse_bugs_full.csv\n",
    "\n",
    "Output files:\n",
    "/data_processing/bugs_info.csv"
   ]
  },
  {
   "cell_type": "code",
   "execution_count": null,
   "metadata": {},
   "outputs": [],
   "source": [
    "eclipse_bugs_all_file = '.'+os.sep+'data'+os.sep+'all_eclipse_bugs.csv'\n",
    "bugs_info_file = 'data'+os.sep+'bugs_info.csv'"
   ]
  },
  {
   "cell_type": "code",
   "execution_count": null,
   "metadata": {
    "scrolled": true
   },
   "outputs": [],
   "source": [
    "#Load data\n",
    "df = pd.read_csv(eclipse_bugs_all_file,index_col=False,dtype={'version':str})\n",
    "df = fetch_minimal_columns(df)\n",
    "df.head(n=2)"
   ]
  },
  {
   "cell_type": "markdown",
   "metadata": {},
   "source": [
    "# 1-Exploration:"
   ]
  },
  {
   "cell_type": "markdown",
   "metadata": {},
   "source": [
    "##### 1.1-How many distant bugs we have in our dataset?"
   ]
  },
  {
   "cell_type": "markdown",
   "metadata": {},
   "source": [
    "##### 1.2-What is the earliest and lastest date of reported bugs in our dataset?"
   ]
  },
  {
   "cell_type": "markdown",
   "metadata": {},
   "source": [
    "##### 1.3-Can you show the distribution of the number of bugs (grouped by product)?"
   ]
  },
  {
   "cell_type": "markdown",
   "metadata": {},
   "source": [
    "##### 1.4-List the severites of the bugs."
   ]
  },
  {
   "cell_type": "markdown",
   "metadata": {},
   "source": [
    "# 2-Preprocessing"
   ]
  },
  {
   "cell_type": "markdown",
   "metadata": {},
   "source": [
    "##### 2.1-Exclude the enhancements from the dataset.\n"
   ]
  },
  {
   "cell_type": "markdown",
   "metadata": {},
   "source": [
    "##### 2.2-Remove the bugs not targeting any version"
   ]
  },
  {
   "cell_type": "markdown",
   "metadata": {},
   "source": [
    "##### 2.3-List the versions of the bugs."
   ]
  },
  {
   "cell_type": "markdown",
   "metadata": {},
   "source": [
    "##### 2.4-In the lecture, we explained major, minor, patch releases. Can you aggregate all reported bugs into groups according to their major release number?\n",
    "For example, group 4.2 contains all reported bugs whose Version field prefix is 4.2.\n",
    "Add a \"release\" column to your dataframe and assign it to it the major version of the bug"
   ]
  },
  {
   "cell_type": "code",
   "execution_count": null,
   "metadata": {},
   "outputs": [],
   "source": [
    "df.release.unique()"
   ]
  },
  {
   "cell_type": "code",
   "execution_count": null,
   "metadata": {
    "scrolled": true
   },
   "outputs": [],
   "source": [
    "#export the file to the processing data folder\n",
    "df.to_csv(bugs_info_file,index=False)"
   ]
  },
  {
   "cell_type": "markdown",
   "metadata": {},
   "source": [
    "# 3-Analyzing"
   ]
  },
  {
   "cell_type": "code",
   "execution_count": null,
   "metadata": {},
   "outputs": [],
   "source": [
    "#Load data after I did some preprocessing on the bug reports and history\n",
    "df = pd.read_csv('.'+os.sep+'data'+os.sep+'bugs_info_all.csv',index_col=False,\n",
    "                dtype={'release':str,'version':str})\n",
    "df = df.fillna('')\n",
    "df['release'] = df.apply(lambda x : str(assign_to_closest_minor(x['version'])), axis=1)\n",
    "df = trans_to_datetime(df,['creation_time','first_assignment_date','last_assignment_date',\n",
    "                          'first_resolved_date','last_resolved_date',\n",
    "                           'first_fixed_date','last_fixed_date'])\n",
    "df.head(n=2)"
   ]
  },
  {
   "cell_type": "markdown",
   "metadata": {},
   "source": [
    "##### 3.1-Show the resolution statistics "
   ]
  },
  {
   "cell_type": "markdown",
   "metadata": {},
   "source": [
    "##### 3.2-Create the figure for number of reported/resolved/fixed/assigned bugs per release"
   ]
  },
  {
   "cell_type": "markdown",
   "metadata": {},
   "source": [
    "To compute the fix and resolve rate, we will use:\n",
    "\n",
    "resolve rate: **ResRate**=nb. of resolved bugs/nb. of reported bugs\n",
    "\n",
    "Fix rate: **FixRate**=nb. of fixed bugs/nb. of resolved bugs\n"
   ]
  },
  {
   "cell_type": "markdown",
   "metadata": {},
   "source": [
    "##### 3.3-Create the figure of fix and resolve rate per release\n",
    "P.S: you can use function  sort_df() to sort the df by releases when showing it on the figures. \n",
    "This function is imported from global_functions"
   ]
  },
  {
   "cell_type": "markdown",
   "metadata": {},
   "source": [
    "# Question 1: What can you conclude from previous observations on reported/resolved/fixed/assigned bugs? "
   ]
  },
  {
   "cell_type": "markdown",
   "metadata": {},
   "source": [
    "# Question 2: What can you conclude from all the previous observations on resolution and fixing rate? (use regression)"
   ]
  },
  {
   "cell_type": "code",
   "execution_count": null,
   "metadata": {},
   "outputs": [],
   "source": []
  },
  {
   "cell_type": "markdown",
   "metadata": {},
   "source": [
    "##### 3.4-Show the distibution of the fixing time for each release in the form of boxplot or boxenplot. "
   ]
  },
  {
   "cell_type": "markdown",
   "metadata": {},
   "source": [
    "**Fixing time**=creation time-last fixed time"
   ]
  },
  {
   "cell_type": "markdown",
   "metadata": {},
   "source": [
    "# Question 3: What can you conclude from all the previous observations on fixing time?"
   ]
  },
  {
   "cell_type": "code",
   "execution_count": null,
   "metadata": {},
   "outputs": [],
   "source": []
  }
 ],
 "metadata": {
  "kernelspec": {
   "display_name": "Python 3",
   "language": "python",
   "name": "python3"
  },
  "language_info": {
   "codemirror_mode": {
    "name": "ipython",
    "version": 3
   },
   "file_extension": ".py",
   "mimetype": "text/x-python",
   "name": "python",
   "nbconvert_exporter": "python",
   "pygments_lexer": "ipython3",
   "version": "3.7.7"
  }
 },
 "nbformat": 4,
 "nbformat_minor": 2
}
